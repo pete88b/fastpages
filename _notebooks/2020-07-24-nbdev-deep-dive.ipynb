{
 "cells": [
  {
   "cell_type": "markdown",
   "metadata": {},
   "source": [
    "# Things you might not know you can do with nbdev\n",
    "> Exploring some of the less well known nbdev features.\n",
    "\n",
    "- toc: true \n",
    "- badges: true\n",
    "- comments: true\n",
    "- categories: [nbdev, fastai, jupyter]\n",
    "- author: Peter Butterfill"
   ]
  },
  {
   "cell_type": "markdown",
   "metadata": {},
   "source": [
    "# Introduction\n",
    "\n",
    "Please note: Until the next version of nbdev is released to [pypi](https://pypi.org/project/nbdev/), you'll need to use an [editable install of nbdev](https://github.com/fastai/nbdev/#installing) for everything in this blog to work.\n",
    "\n",
    "What follows is a collection of things I've learned while trying to help answer questions on the forum, fix issues and introduce magic flags. Hope it helps to know that you can ..."
   ]
  },
  {
   "cell_type": "markdown",
   "metadata": {},
   "source": [
    "# Export a `if __name__ == \"__main__\"` clause\n",
    "\n",
    "I'd recommend using [console scripts](https://nbdev.fast.ai/tutorial/#Set-up-console-scripts) wherever you can - but if you want your modules to run something when invoked directly, `if __name__ == \"__main__\"` could be the answer.\n",
    "\n",
    "Anything you `%nbdev_export` gets written to your .py - so you could write a cell like:\n",
    "\n",
    "```python\n",
    "%nbdev_export\n",
    "try: from nbdev.imports import IN_NOTEBOOK\n",
    "except: IN_NOTEBOOK=False\n",
    "\n",
    "if __name__ == \"__main__\" and not IN_NOTEBOOK:\n",
    "    print('Running \"command line\" logic ...')\n",
    "```\n",
    "Note:\n",
    "- We need the `not IN_NOTEBOOK` check because `__name__ == \"__main__\"` when running in a notebook\n",
    "- We put the `IN_NOTEBOOK` import in a try catch so that your module doesn't have a dependency on nbdev"
   ]
  },
  {
   "cell_type": "markdown",
   "metadata": {},
   "source": [
    "# Use multiple flags in a cell\n",
    "\n",
    "Most flags can be used in combination with other flags. Here's a couple of combinations that might be useful:\n",
    "- You can hide input and collapse output with `%nbdev_hide_input` and `%nbdev_collapse_output`\n",
    "- You can hide a cell and specify a test flag with `%nbdev_hide` and `%nbdev_slow_test`\n",
    "\n",
    "Note: You can't put multiple flags on the same line.\n",
    "\n",
    "There are a few things that are not supported yet, such as:\n",
    "- You can collapse input or output _but not both_\n",
    "    - If nbdev finds both `%nbdev_collapse_input` and `%nbdev_collapse_output` it will ignore `%nbdev_collapse_output`"
   ]
  },
  {
   "cell_type": "markdown",
   "metadata": {},
   "source": [
    "# Remove all special comments / flags from the docs\n",
    "\n",
    "You might have seen special comments in your docs. This can happen if the special comment is not the 1st thing in the cell:\n",
    "```python\n",
    "# hiding the input of this cell as the output is more important\n",
    "# collapse-hide\n",
    "# let's run some code ...\n",
    "some_code('here')\n",
    "```\n",
    "This &uarr; cell would get converted to &darr; in the docs.\n",
    "```python\n",
    "# collapse-hide\n",
    "# let's run some code ...\n",
    "some_code('here')\n",
    "```\n",
    "\n",
    "Converting your project to use magic flags with `nbdev_upgrade` would change the cell to:\n",
    "```python\n",
    "# hiding the input of this cell as the output is more important\n",
    "%nbdev_collapse_input\n",
    "# let's run some code ...\n",
    "some_code('here')\n",
    "```\n",
    "Which gets converted to &darr; in the docs.\n",
    "```python\n",
    "# let's run some code ...\n",
    "some_code('here')\n",
    "```"
   ]
  },
  {
   "cell_type": "markdown",
   "metadata": {},
   "source": [
    "# Write to a module that is created \"later\"\n",
    "\n",
    "Lets say we have 2 notebooks:\n",
    "- `00_core.ipynb`\n",
    "    - Which contains `%nbdev_default_export core` to create `core.py`\n",
    "- `01_data.ipynb`\n",
    "    - Which contains `%nbdev_default_export data` to create `data.py`\n",
    "    \n",
    "It used to be the case that writing a cell in `00_core.ipynb` that exports to `data` would cause problems:\n",
    "```python\n",
    "%nbdev_export data\n",
    "def some_data_func():\n",
    "    that_we_also_want_to_use in ['the core notebook']\n",
    "```\n",
    "nbdev is totally happy with this now.\n",
    "\n",
    "This change has also made it possible to use the same `%nbdev_default_export` in multiple notebooks. I'm *not* recommending that you do this but ... you can write to the same module from multiple notebooks."
   ]
  },
  {
   "cell_type": "markdown",
   "metadata": {},
   "source": [
    "# Exclude a single notebook from doc builds\n",
    "\n",
    "You can do simple exclusions with glob. The following command include all .ipynb files unless they start with 2:\n",
    "```\n",
    "nbdev_build_docs --fname=[!2]*.ipynb\n",
    "```\n",
    "\n",
    "It's worth remembering that nbdev will ignore any file that starts with an underscore - I use this all the time with `_tmp` in `.gitignore`."
   ]
  },
  {
   "cell_type": "markdown",
   "metadata": {},
   "source": [
    "# Hide markdown cells from the docs\n",
    "\n",
    "Apart from `#hide` and `%nbdev_hide`, nbdev will ignore flags that are not in code cells.\n",
    "This means that you can use markdown cells for \"developer-only\" details and `#hide` them from the HTML docs."
   ]
  },
  {
   "cell_type": "markdown",
   "metadata": {},
   "source": [
    "# Put any number of test flags in a cell\n",
    "\n",
    "Lets say you have `tst_flags = slow|cuda` in `settings.ini` so that you can flag test as being slow or needing a GPU. If you need to flag a test as being both slow and needing a GPU, you can:\n",
    "```python\n",
    "%nbdev_slow_test\n",
    "%nbdev_cuda_test\n",
    "tst_result=long_running_fn()\n",
    "```\n",
    "\n",
    "Currently, only one test flag can be applied to all cells in a notebook. So if you had &darr; only the slow test flag would be picked up:\n",
    "```python\n",
    "%nbdev_slow_test all\n",
    "%nbdev_cuda_test all\n",
    "```"
   ]
  },
  {
   "cell_type": "markdown",
   "metadata": {},
   "source": [
    "# Create code coverage reports\n",
    "\n",
    "We can run tests in parallel and get coverage with [pytest-cov](https://github.com/pytest-dev/pytest-cov).\n",
    "\n",
    "If you'd like to try this:\n",
    "- install pytest-cov and its dependencies\n",
    "- copy [test_nbs.py](https://github.com/pete88b/decision_tree/blob/master/test_nbs.py) to your nbdev project\n",
    "- then run `pytest --cov=[your lib name]`\n",
    "\n",
    "Feel free to join [the discussion](https://forums.fast.ai/t/nbdev-code-coverage-n-tests/73993/6) (o:\n",
    "\n",
    "## When running tests, nbdev runs all cells in a notebook\n",
    "\n",
    "Currently, when you `nbdev_test_nbs`, nbdev will run your notebooks from top to bottom.\n",
    "\n",
    "A consequence of this is that if you have\n",
    "- `00_core.ipynb` that contains `%nbdev_default_export core`,\n",
    "- `nbdev_test_nbs --fname 00_core.ipynb` will not test `core.py`.\n",
    "\n",
    "While [test_nbs.py](https://github.com/pete88b/decision_tree/blob/master/test_nbs.py) might look a little complicated, it means that `nbdev_test_nbs --fname 00_core.ipynb` will test `core.py` and you get accurate coverage data.\n",
    "\n",
    "## Code coverage tells you what you definitely haven't tested, not what you have\n",
    "\n",
    "I really like this &uarr; quote from [Mark Simpson](https://stackoverflow.com/questions/695811/pitfalls-of-code-coverage/695888#695888)\n",
    "\n",
    "While there are lots of good uses of coverage reports, I've seen them do more harm than good to projects when used as a strict quality measure. I really like the fastai style of writing tests that show how code can be used, then focusing on functional coverage."
   ]
  },
  {
   "cell_type": "markdown",
   "metadata": {},
   "source": [
    "# Use `%nbdev_add2all` in place of `_all_`\n",
    "\n",
    "Sometimes objects are not picked to be automatically added to the `__all__` of the module so you will need to add them manually. To do so, create an exported cell with the following code `%nbdev_add2all \"name\", \"name2\"`\n",
    "\n",
    "Please note:\n",
    "- elements in `%nbdev_add2all` can be space and/or comma separated and don't have to be quoted\n",
    "```python\n",
    "# 'func', 'func2' and 'func3' will be added to `__all__`\n",
    "%nbdev_add2all func, func2 func3\n",
    "# you'll see warnings if any unquoted function names can't be found\n",
    "```\n",
    "- elements on a new line will *not* be added to `__all__`\n",
    "```python\n",
    "# 'func2' won't get added to `__all__`\n",
    "%nbdev_add2all 'func',\n",
    "        'func2'\n",
    "```\n",
    "- only the first `%nbdev_add2all` in a cell will get picked up\n",
    "```python\n",
    "%nbdev_add2all ['func']\n",
    "# `func2` won't get added to `__all__`\n",
    "%nbdev_add2all ['func2']\n",
    "```\n",
    "- but you can have any number of `%nbdev_add2all`s in a notebook by putting them in different cells.\n",
    "\n",
    "I'm *not* recommending that you do this but ... as long as you have only one `_all_` or `%nbdev_add2all` in an exported cell, you can put any other code you like in this cell.\n",
    "\n",
    "For more exmaples, please see this [demo page](https://github.com/pete88b/decision_tree/blob/master/61_test_add2__all__.ipynb)"
   ]
  },
  {
   "cell_type": "markdown",
   "metadata": {},
   "source": [
    "# Use code completion when adding to `__all__`\n",
    "\n",
    "It used to be the case that using unquoted names in `_all_` caused problems:\n",
    "```python\n",
    "%nbdev_export\n",
    "_all_ = [func, func2 func3]\n",
    "```\n",
    "This &uarr; will work fine now as names get quoted when writing to your library &darr;:\n",
    "```python\n",
    "__all__ = ['other','things','you','have','exported','func','func2','func3']\n",
    "```"
   ]
  },
  {
   "cell_type": "markdown",
   "metadata": {},
   "source": [
    "# Import anything needed by show_doc\n",
    "\n",
    "When building docs, nbdev runs all `show_doc` and `%nbdev_show_doc` cells so that stale output doesn't make it into your docs.\n",
    "\n",
    "So that names are available when making `show_doc` calls, nbdev runs cells containing:\n",
    "- a \"library import\" (zero indent import from current library) e.g. `from LIB_NAME.core import *`\n",
    "\n",
    "If running these cells raises an exception, the build will stop.\n",
    "\n",
    "nbdev also runs cells containing zero indented imports. e.g.\n",
    "- `from module import *` or\n",
    "- `import module`\n",
    "\n",
    "If running these cells raises an exception, the build will not stop.\n",
    "\n",
    "If you need to `show_doc` something, please make sure it's imported via a cell that does not depend on previous cells being run. The easiest way to do this is to use a cell that contains nothing but imports."
   ]
  },
  {
   "cell_type": "markdown",
   "metadata": {},
   "source": [
    "# Use `%nbdev_show_doc` to \n",
    "\n",
    "For me, one of the best things about `show_doc` is not having to use it (o: because nbdev automatically adds `show_doc` for exported functions and classes.\n",
    "\n",
    "To make it possible to do everything via magic flags and provide a few shortcuts, we've added `%nbdev_show_doc`. While `show_doc` will most often be the best choice, here are a few ways in which `%nbdev_show_doc` can help:\n",
    "\n",
    "\n",
    "Here are a few lines from [00_torch_core.ipynb](https://github.com/fastai/fastai2/blob/master/nbs/00_torch_core.ipynb):\n",
    "```python\n",
    "show_doc(TitledInt, title_level=3)\n",
    "```\n",
    "```python\n",
    "show_doc(TitledStr, title_level=3)\n",
    "```\n",
    "```python\n",
    "show_doc(TitledFloat, title_level=3)\n",
    "```\n",
    "\n",
    "That could be written with one `%nbdev_show_doc`:\n",
    "```python\n",
    "%nbdev_show_doc TitledInt,TitledStr,TitledFloat,title_level=3\n",
    "```\n",
    "\n",
    "\n",
    "Here are some of the `DataLoaders` `show_doc` calls from [03_data.core.ipynb](https://github.com/fastai/fastai2/blob/master/nbs/03_data.core.ipynb):\n",
    "```python\n",
    "show_doc(DataLoaders.train, name=\"DataLoaders.train\")\n",
    "```\n",
    "```python\n",
    "show_doc(DataLoaders.valid, name=\"DataLoaders.valid\")\n",
    "```\n",
    "\n",
    "> This &uarr; is not typical fastai - which might make it a good time to quote Sylvain: \"I'm less convinced by `%nbdev_show_doc` since it mostly seems useful for calling show_doc on several functions at once and we usually insert markdown between two show_doc calls\".\n",
    "\n",
    "Having said that (o: all of the `DataLoaders` `show_doc` calls could be written with one `%nbdev_show_doc` _without_ having to pass `name=`:\n",
    "```python\n",
    "%nbdev_show_doc DataLoaders . __getitem__ train valid train_ds valid_ds\n",
    "```\n",
    "\n",
    "Or even more succinctly as:\n",
    "\n",
    "<img alt=\"show_doc with wildcard\" width=\"75%\" align=\"left\" src=\"images/show_doc_with_wildcard.png\">"
   ]
  },
  {
   "cell_type": "markdown",
   "metadata": {},
   "source": [
    "In the example above &#8593;\n",
    "- The `*` tells nbdev_show_doc to show all public members but ...\n",
    "- we dont show the output for all members here as it's quite a long list\n",
    "    \n",
    "For more examples, please see this [demo page](https://github.com/pete88b/decision_tree/blob/master/51_test_show_doc.ipynb)"
   ]
  }
 ],
 "metadata": {
  "kernelspec": {
   "display_name": "Python 3",
   "language": "python",
   "name": "python3"
  },
  "language_info": {
   "codemirror_mode": {
    "name": "ipython",
    "version": 3
   },
   "file_extension": ".py",
   "mimetype": "text/x-python",
   "name": "python",
   "nbconvert_exporter": "python",
   "pygments_lexer": "ipython3",
   "version": "3.7.7"
  },
  "toc": {
   "base_numbering": 1,
   "nav_menu": {},
   "number_sections": true,
   "sideBar": true,
   "skip_h1_title": false,
   "title_cell": "Table of Contents",
   "title_sidebar": "Contents",
   "toc_cell": false,
   "toc_position": {},
   "toc_section_display": true,
   "toc_window_display": false
  },
  "varInspector": {
   "cols": {
    "lenName": 16,
    "lenType": 16,
    "lenVar": 40
   },
   "kernels_config": {
    "python": {
     "delete_cmd_postfix": "",
     "delete_cmd_prefix": "del ",
     "library": "var_list.py",
     "varRefreshCmd": "print(var_dic_list())"
    },
    "r": {
     "delete_cmd_postfix": ") ",
     "delete_cmd_prefix": "rm(",
     "library": "var_list.r",
     "varRefreshCmd": "cat(var_dic_list()) "
    }
   },
   "types_to_exclude": [
    "module",
    "function",
    "builtin_function_or_method",
    "instance",
    "_Feature"
   ],
   "window_display": false
  }
 },
 "nbformat": 4,
 "nbformat_minor": 4
}
