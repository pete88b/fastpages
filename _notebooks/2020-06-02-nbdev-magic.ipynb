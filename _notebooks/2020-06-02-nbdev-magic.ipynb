{
 "cells": [
  {
   "cell_type": "markdown",
   "metadata": {},
   "source": [
    "# nbdev is getting a little %magic\n",
    "> Introducing magic flags in nbdev.\n",
    "\n",
    "- toc: true \n",
    "- badges: true\n",
    "- comments: true\n",
    "- categories: [nbdev, fastai, jupyter]\n",
    "- author: Peter Butterfill"
   ]
  },
  {
   "cell_type": "markdown",
   "metadata": {},
   "source": [
    "# Overview\n",
    "\n",
    "nbdev is progressively getting magic commands that will eventually replace the special comments it currently uses, so you get autocomplete and documentation:\n",
    "\n",
    "<img alt=\"magic animation\" width=\"75%\" align=\"left\" src=\"images/nbdev-magic.gif\" />"
   ]
  },
  {
   "cell_type": "markdown",
   "metadata": {},
   "source": [
    "You'll also get feedback when flags are used incorrectly:\n",
    "\n",
    "<img alt=\"magic usage error\"  width=\"75%\" align=\"left\" src=\"images/nbdev-magic-usage-error.png\" />"
   ]
  },
  {
   "cell_type": "markdown",
   "metadata": {},
   "source": [
    "# How do I start using magic flags?\n",
    "\n",
    "Grab an [editable install of nbdev](https://github.com/fastai/nbdev/#installing) then run `nbdev_upgrade` from the command line - this will update notebooks that use comment flags like:\n",
    "\n",
    "```python\n",
    "#export special.module\n",
    "```\n",
    "\n",
    "to use magic flags:\n",
    "\n",
    "```python\n",
    "%nbdev_export special.module\n",
    "```\n",
    "\n",
    "To make magic flags work, `nbdev_upgrade` might need to add a new code cell to the top of the notebook:\n",
    "\n",
    "```python\n",
    "from nbdev import *\n",
    "```\n",
    "\n",
    "You can run `nbdev_upgrade` any number of times - which means you can update the same project every time new magic flags get added to nbdev."
   ]
  },
  {
   "cell_type": "markdown",
   "metadata": {},
   "source": [
    "## Can I use both comment and magic flags?\n",
    "\n",
    "Both comment and magic flags are currently supported and you can use both kinds in the same notebook."
   ]
  },
  {
   "cell_type": "markdown",
   "metadata": {},
   "source": [
    "## Why can't I see any \"test\" flags?\n",
    "\n",
    "If you don't see the test flags you need ...\n",
    "\n",
    "<img alt=\"auto complete no test\" width=\"55%\" align=\"left\" src=\"images/tab-complete-no-test.png\" />"
   ]
  },
  {
   "cell_type": "markdown",
   "metadata": {},
   "source": [
    "... you'll probably need to update `settings.ini` then restart your notebook.\n",
    "\n",
    "Test flags are configured in your `settings.ini` (set `tst_flags`, separating flags by a `|` if you have several of them).\n",
    "\n",
    "When the `nbdev.flags` module is imported, test flags are created dynamically from your settings.ini. If `tst_flags=slow|gpu`, the following flags would be available:\n",
    "```python\n",
    "%nbdev_slow_test\n",
    "%nbdev_gpu_test\n",
    "```"
   ]
  },
  {
   "cell_type": "markdown",
   "metadata": {},
   "source": [
    "## Can I use flags in any kind of cell?\n",
    "\n",
    "Apart from `#hide` and `%nbdev_hide`, nbdev will ignore flags that are not in code cells.\n",
    "This means that you can use markdown cells for \"developer-only\" details and `#hide` them from the HTML docs."
   ]
  },
  {
   "cell_type": "markdown",
   "metadata": {},
   "source": [
    "## Do magic flags work differently to comment flags?\n",
    "\n",
    "Ideally, they would work the same but ... there is a difference when nbdev splits the source of a cell into flags and code;\n",
    "\n",
    "If no magic flags are found, treat the first comment line as a flag"
   ]
  },
  {
   "cell_type": "markdown",
   "metadata": {},
   "source": [
    "<img alt=\"split_flags_and_code example\" width=\"450\" align=\"left\" src=\"images/split_flags_and_code.png\" />"
   ]
  },
  {
   "cell_type": "markdown",
   "metadata": {},
   "source": [
    "If magic flags are found, the flags part can contain multiple lines"
   ]
  },
  {
   "cell_type": "markdown",
   "metadata": {},
   "source": [
    "<img alt=\"split_flags_and_code example\" width=\"450\" align=\"left\" src=\"images/split_flags_and_code_magic.png\" />"
   ]
  },
  {
   "cell_type": "markdown",
   "metadata": {},
   "source": [
    "This could make a difference because nbdev writes just the code part to both your library and HTML docs."
   ]
  },
  {
   "cell_type": "markdown",
   "metadata": {},
   "source": [
    "# How do comment flags correspond to magic flags?\n",
    "\n",
    "| Comment flag                           | Magic flag                  |                                                                                |\n",
    "|----------------------------------------|-----------------------------|--------------------------------------------------------------------------------|\n",
    "| `default_exp`                          | `nbdev_default_export`      | Define the name of the module everything should be exported in                 |\n",
    "| `exports`                              | `nbdev_export_and_show`     | Export and show code in the docs                                               |\n",
    "| `exporti`                              | `nbdev_export_internal`     | Export but don’t show in docs and don’t add to `__all__`                       |\n",
    "| `export`                               | `nbdev_export`              | Export but don’t show in docs                                                  |\n",
    "| `hide_input`                           | `nbdev_hide_input`          | Do not show input of a test cell in docs                                       |\n",
    "| `hide_output`                          | `nbdev_hide_output`         | Do not show output of a test cell in docs                                      |\n",
    "| `hide`                                 | `nbdev_hide`                | Do not show a test cell or markdown in docs                                    |\n",
    "| `default_cls_lvl`                      | `nbdev_default_class_level` | Define the default toc level of classes                                        |\n",
    "| `collapse_output` or `collapse-output` | `nbdev_collapse_output`     | Inlcude output in the docs under a collapsable element                         |\n",
    "| `collapse_show` or `collapse-show`     | `nbdev_collapse_input open` | Inlcude intput in the docs under a collapsable element that is open by default |\n",
    "| `collapse_hide` or `collapse-hide`     | `nbdev_collapse_input`      | Inlcude intput in the docs under a collapsable element                         |\n",
    "| `collapse`                             | `nbdev_collapse_input`      | Inlcude intput in the docs under a collapsable element                         |"
   ]
  },
  {
   "cell_type": "markdown",
   "metadata": {},
   "source": [
    "# Why might we add magic flags for `_all_` and `show_doc`?\n",
    "\n",
    "One of the reasons for suggesting this is so that everything can be done via magic flags - rather than using flags for everything except `_all_` and `show_doc`."
   ]
  },
  {
   "cell_type": "markdown",
   "metadata": {},
   "source": [
    "#hide\n",
    "## demo magic flag impl"
   ]
  },
  {
   "cell_type": "code",
   "execution_count": 1,
   "metadata": {},
   "outputs": [],
   "source": [
    "#hide\n",
    "from IPython.core.magic import register_line_magic\n",
    "@register_line_magic\n",
    "def nbev_add2__all__(line):\n",
    "    \"\"\"To add something to __all__ if it's not picked automatically,\n",
    "    write a cell with something like: %nbev_add2__all__ thing_1, thing_2 ...\"\"\""
   ]
  },
  {
   "cell_type": "code",
   "execution_count": 2,
   "metadata": {},
   "outputs": [],
   "source": [
    "#hide\n",
    "from nbdev.showdoc import show_doc\n",
    "@register_line_magic\n",
    "def nbev_show_doc(line):\n",
    "    \"\"\"Show documentation for element. Supported types: class, function, and enum.\n",
    "    You can use this magic flag or the `show_doc` function from `nbdev.showdoc`\"\"\"\n",
    "#     show_doc(globals()[line.strip()])\n",
    "    # we could let the magic show docs for class + any number of methods\n",
    "    elts = line.split()\n",
    "    first_elt = eval(elts[0])\n",
    "    show_doc(first_elt)\n",
    "    for i in range(1,len(elts)):\n",
    "        show_doc(eval(elts[0]+'.'+elts[i]))\n",
    "    # or parse line for other show_doc arguments?\n",
    "#     show_doc(eval(line)) "
   ]
  },
  {
   "cell_type": "markdown",
   "metadata": {},
   "source": [
    "## %nbev_add2__all__\n",
    "\n",
    "here's what we do today"
   ]
  },
  {
   "cell_type": "code",
   "execution_count": 3,
   "metadata": {},
   "outputs": [],
   "source": [
    "_all_ = ['progress_bar','master_bar']"
   ]
  },
  {
   "cell_type": "markdown",
   "metadata": {},
   "source": [
    "but we could ..."
   ]
  },
  {
   "cell_type": "code",
   "execution_count": 4,
   "metadata": {},
   "outputs": [],
   "source": [
    "%nbev_add2__all__ progress_bar,master_bar"
   ]
  },
  {
   "cell_type": "markdown",
   "metadata": {},
   "source": [
    "This flag could\n",
    "- check that everything exists and names are valid (when the cell is executed) and \n",
    "- make it possible to tab-complete the items you're adding to `__all__`"
   ]
  },
  {
   "cell_type": "markdown",
   "metadata": {},
   "source": [
    "<img alt=\"add to all\"  width=\"55%\" align=\"left\" src=\"images/add2all.png\" />"
   ]
  },
  {
   "cell_type": "markdown",
   "metadata": {},
   "source": [
    "The example above uses a line magic, so you'd have to move everything on line 3 up to line 2 but ... we could use a cell magic"
   ]
  },
  {
   "cell_type": "markdown",
   "metadata": {},
   "source": [
    "## %nbev_show_doc\n",
    "\n",
    "here's what we do today"
   ]
  },
  {
   "cell_type": "code",
   "execution_count": 5,
   "metadata": {},
   "outputs": [
    {
     "data": {
      "text/markdown": [
       "<h2 id=\"ArithmeticError\" class=\"doc_header\"><code>class</code> <code>ArithmeticError</code><a href=\"\" class=\"source_link\" style=\"float:right\">[source]</a></h2>\n",
       "\n",
       "> <code>ArithmeticError</code>() :: `Exception`\n",
       "\n",
       "Base class for arithmetic errors."
      ],
      "text/plain": [
       "<IPython.core.display.Markdown object>"
      ]
     },
     "metadata": {},
     "output_type": "display_data"
    }
   ],
   "source": [
    "show_doc(ArithmeticError)"
   ]
  },
  {
   "cell_type": "code",
   "execution_count": 6,
   "metadata": {},
   "outputs": [
    {
     "data": {
      "text/markdown": [
       "<h4 id=\"ArithmeticError.mro\" class=\"doc_header\"><code>ArithmeticError.mro</code><a href=\"\" class=\"source_link\" style=\"float:right\">[source]</a></h4>\n",
       "\n",
       "> <code>ArithmeticError.mro</code>()\n",
       "\n",
       "Return a type's method resolution order."
      ],
      "text/plain": [
       "<IPython.core.display.Markdown object>"
      ]
     },
     "metadata": {},
     "output_type": "display_data"
    }
   ],
   "source": [
    "show_doc(ArithmeticError.mro)"
   ]
  },
  {
   "cell_type": "code",
   "execution_count": 7,
   "metadata": {},
   "outputs": [
    {
     "data": {
      "text/markdown": [
       "<h4 id=\"ArithmeticError.__init__\" class=\"doc_header\"><code>ArithmeticError.__init__</code><a href=\"\" class=\"source_link\" style=\"float:right\">[source]</a></h4>\n",
       "\n",
       "> <code>ArithmeticError.__init__</code>(**\\*`args`**, **\\*\\*`kwargs`**)\n",
       "\n",
       "Initialize self.  See help(type(self)) for accurate signature."
      ],
      "text/plain": [
       "<IPython.core.display.Markdown object>"
      ]
     },
     "metadata": {},
     "output_type": "display_data"
    }
   ],
   "source": [
    "show_doc(ArithmeticError.__init__)"
   ]
  },
  {
   "cell_type": "markdown",
   "metadata": {},
   "source": [
    "but we could ..."
   ]
  },
  {
   "cell_type": "code",
   "execution_count": 8,
   "metadata": {},
   "outputs": [
    {
     "data": {
      "text/markdown": [
       "<h2 id=\"ArithmeticError\" class=\"doc_header\"><code>class</code> <code>ArithmeticError</code><a href=\"\" class=\"source_link\" style=\"float:right\">[source]</a></h2>\n",
       "\n",
       "> <code>ArithmeticError</code>() :: `Exception`\n",
       "\n",
       "Base class for arithmetic errors."
      ],
      "text/plain": [
       "<IPython.core.display.Markdown object>"
      ]
     },
     "metadata": {},
     "output_type": "display_data"
    },
    {
     "data": {
      "text/markdown": [
       "<h4 id=\"ArithmeticError.mro\" class=\"doc_header\"><code>ArithmeticError.mro</code><a href=\"\" class=\"source_link\" style=\"float:right\">[source]</a></h4>\n",
       "\n",
       "> <code>ArithmeticError.mro</code>()\n",
       "\n",
       "Return a type's method resolution order."
      ],
      "text/plain": [
       "<IPython.core.display.Markdown object>"
      ]
     },
     "metadata": {},
     "output_type": "display_data"
    },
    {
     "data": {
      "text/markdown": [
       "<h4 id=\"ArithmeticError.__init__\" class=\"doc_header\"><code>ArithmeticError.__init__</code><a href=\"\" class=\"source_link\" style=\"float:right\">[source]</a></h4>\n",
       "\n",
       "> <code>ArithmeticError.__init__</code>(**\\*`args`**, **\\*\\*`kwargs`**)\n",
       "\n",
       "Initialize self.  See help(type(self)) for accurate signature."
      ],
      "text/plain": [
       "<IPython.core.display.Markdown object>"
      ]
     },
     "metadata": {},
     "output_type": "display_data"
    }
   ],
   "source": [
    "%nbev_show_doc ArithmeticError mro __init__"
   ]
  },
  {
   "cell_type": "markdown",
   "metadata": {},
   "source": [
    "This flag could make it possible to \"show doc\" a class and any number of its methods with a single line of code."
   ]
  }
 ],
 "metadata": {
  "kernelspec": {
   "display_name": "Python 3",
   "language": "python",
   "name": "python3"
  },
  "language_info": {
   "codemirror_mode": {
    "name": "ipython",
    "version": 3
   },
   "file_extension": ".py",
   "mimetype": "text/x-python",
   "name": "python",
   "nbconvert_exporter": "python",
   "pygments_lexer": "ipython3",
   "version": "3.7.7"
  },
  "toc": {
   "base_numbering": 1,
   "nav_menu": {},
   "number_sections": true,
   "sideBar": true,
   "skip_h1_title": false,
   "title_cell": "Table of Contents",
   "title_sidebar": "Contents",
   "toc_cell": false,
   "toc_position": {},
   "toc_section_display": true,
   "toc_window_display": false
  },
  "varInspector": {
   "cols": {
    "lenName": 16,
    "lenType": 16,
    "lenVar": 40
   },
   "kernels_config": {
    "python": {
     "delete_cmd_postfix": "",
     "delete_cmd_prefix": "del ",
     "library": "var_list.py",
     "varRefreshCmd": "print(var_dic_list())"
    },
    "r": {
     "delete_cmd_postfix": ") ",
     "delete_cmd_prefix": "rm(",
     "library": "var_list.r",
     "varRefreshCmd": "cat(var_dic_list()) "
    }
   },
   "types_to_exclude": [
    "module",
    "function",
    "builtin_function_or_method",
    "instance",
    "_Feature"
   ],
   "window_display": false
  }
 },
 "nbformat": 4,
 "nbformat_minor": 4
}
