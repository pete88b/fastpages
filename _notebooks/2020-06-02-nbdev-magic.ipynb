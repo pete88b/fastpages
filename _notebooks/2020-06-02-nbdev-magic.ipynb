{
 "cells": [
  {
   "cell_type": "markdown",
   "metadata": {},
   "source": [
    "# nbdev is getting a little %magic\n",
    "> Introducing magic flags in nbdev.\n",
    "\n",
    "- toc: true \n",
    "- badges: true\n",
    "- comments: true\n",
    "- categories: [nbdev, fastai, jupyter]\n",
    "- author: Peter Butterfill"
   ]
  },
  {
   "cell_type": "markdown",
   "metadata": {},
   "source": [
    "# Overview\n",
    "\n",
    "nbdev is progressively getting magic commands that will eventually replace the special comments it currently uses, so you get autocomplete and documentation:\n",
    "\n",
    "<img alt=\"images/nbdev-magic.gif\" width=\"75%\" align=\"left\" src=\"images/nbdev-magic.gif\" />"
   ]
  },
  {
   "cell_type": "markdown",
   "metadata": {},
   "source": [
    "You'll also get feedback when flags are used incorrectly:\n",
    "\n",
    "<img alt=\"images/nbdev-magic.gif\"  width=\"75%\" align=\"left\" src=\"images/nbdev-magic-usage-error.png\" />"
   ]
  },
  {
   "cell_type": "markdown",
   "metadata": {},
   "source": [
    "# How do I start using magic flags?\n",
    "\n",
    "Grab an [editable install of nbdev](https://github.com/fastai/nbdev/#installing) then run `nbdev_upgrade` from the command line - this will update notebooks that use comment flags like:\n",
    "\n",
    "```python\n",
    "#export special.module\n",
    "```\n",
    "\n",
    "to use magic flags:\n",
    "\n",
    "```python\n",
    "%nbdev_export special.module\n",
    "```\n",
    "\n",
    "To make magic flags work, `nbdev_upgrade` might need to add a new code cell to the top of the notebook:\n",
    "\n",
    "```python\n",
    "from nbdev import *\n",
    "```\n",
    "\n",
    "You can run `nbdev_upgrade` any number of times - which means you can update the same project every time new magic flags get added to nbdev."
   ]
  },
  {
   "cell_type": "markdown",
   "metadata": {},
   "source": [
    "## TODO\n",
    "\n",
    "apart from `#hide` and `%nbdev_hide`, nbdev will ignore flags that are not in code cells - why?\n",
    "\n",
    "test flags are created dynamically from settings.ini tst_flags\n",
    "\n",
    "currently both comment and magic flags are supported and you can use both kinds in the same notebook\n",
    "\n",
    "don't currently have a plan for deprecating comment flags"
   ]
  },
  {
   "cell_type": "markdown",
   "metadata": {},
   "source": [
    "## Do magic flags work differently to comment flags?\n",
    "\n",
    "Ideally, they would work the same but ... there is a difference when nbdev splits the source of a cell into flags and code;\n",
    "\n",
    "If no magic flags are found, treat the first comment line as a flag"
   ]
  },
  {
   "cell_type": "markdown",
   "metadata": {},
   "source": [
    "<img alt=\"split_flags_and_code example\" width=\"450\" align=\"left\" src=\"images/split_flags_and_code.png\" />"
   ]
  },
  {
   "cell_type": "markdown",
   "metadata": {},
   "source": [
    "If magic flags are found, the flags part can contain multiple lines"
   ]
  },
  {
   "cell_type": "markdown",
   "metadata": {},
   "source": [
    "<img alt=\"split_flags_and_code example\" width=\"450\" align=\"left\" src=\"images/split_flags_and_code_magic.png\" />"
   ]
  },
  {
   "cell_type": "markdown",
   "metadata": {},
   "source": [
    "This could make a difference because nbdev writes just the code part to both the library and HTML docs."
   ]
  }
 ],
 "metadata": {
  "kernelspec": {
   "display_name": "Python 3",
   "language": "python",
   "name": "python3"
  },
  "language_info": {
   "codemirror_mode": {
    "name": "ipython",
    "version": 3
   },
   "file_extension": ".py",
   "mimetype": "text/x-python",
   "name": "python",
   "nbconvert_exporter": "python",
   "pygments_lexer": "ipython3",
   "version": "3.7.7"
  },
  "toc": {
   "base_numbering": 1,
   "nav_menu": {},
   "number_sections": true,
   "sideBar": true,
   "skip_h1_title": false,
   "title_cell": "Table of Contents",
   "title_sidebar": "Contents",
   "toc_cell": false,
   "toc_position": {},
   "toc_section_display": true,
   "toc_window_display": false
  },
  "varInspector": {
   "cols": {
    "lenName": 16,
    "lenType": 16,
    "lenVar": 40
   },
   "kernels_config": {
    "python": {
     "delete_cmd_postfix": "",
     "delete_cmd_prefix": "del ",
     "library": "var_list.py",
     "varRefreshCmd": "print(var_dic_list())"
    },
    "r": {
     "delete_cmd_postfix": ") ",
     "delete_cmd_prefix": "rm(",
     "library": "var_list.r",
     "varRefreshCmd": "cat(var_dic_list()) "
    }
   },
   "types_to_exclude": [
    "module",
    "function",
    "builtin_function_or_method",
    "instance",
    "_Feature"
   ],
   "window_display": false
  }
 },
 "nbformat": 4,
 "nbformat_minor": 4
}
